{
  "cells": [
    {
      "cell_type": "markdown",
      "metadata": {
        "id": "S5vrqz0aS5jm"
      },
      "source": [
        "# 📘 Description pédagogique (non technique)\n",
        "**Cette cellule permet de connecter Google Drive à l’environnement de travail.** Cela permet d’utiliser des fichiers (ex : jeux de données, documents, modèles) qui sont stockés dans votre Google Drive directement dans le Notebook.\n",
        "\n",
        "# 💡 Pourquoi on fait ça ?\n",
        "Cela évite de devoir uploader manuellement des fichiers à chaque fois."
      ]
    },
    {
      "cell_type": "code",
      "execution_count": 1,
      "metadata": {
        "colab": {
          "base_uri": "https://localhost:8080/"
        },
        "id": "6CmQxsyVPrpv",
        "outputId": "588eb53c-5853-40f5-9664-bc75fe5abeb4"
      },
      "outputs": [
        {
          "name": "stdout",
          "output_type": "stream",
          "text": [
            "Mounted at /content/gdrive\n"
          ]
        }
      ],
      "source": [
        "from google.colab import drive\n",
        "drive.mount(\"/content/gdrive\")"
      ]
    },
    {
      "cell_type": "markdown",
      "metadata": {
        "id": "u2a7soxaUOy3"
      },
      "source": [
        "# 📘 Description pédagogique (non technique)\n",
        "**Cette cellule permet de changer le dossier de travail du notebook pour aller dans le dossier principal de votre Google Drive** (Mon Drive).\n",
        "Cela facilite l'accès direct aux fichiers sans avoir à écrire un chemin complet à chaque fois.\n",
        "\n",
        "# 💡 Pourquoi on fait ça ?\n",
        "En changeant de dossier, on peut lire et enregistrer des fichiers (ex : jeux de données, résultats, images…) comme si on était déjà dans Google Drive, ce qui simplifie beaucoup les manipulations."
      ]
    },
    {
      "cell_type": "code",
      "execution_count": null,
      "metadata": {
        "colab": {
          "base_uri": "https://localhost:8080/"
        },
        "id": "B0zEle3BP9jN",
        "outputId": "bd9be6a6-2018-4505-fc14-b75da7addc7c"
      },
      "outputs": [
        {
          "name": "stdout",
          "output_type": "stream",
          "text": [
            "/content/gdrive/MyDrive\n"
          ]
        }
      ],
      "source": [
        "%cd gdrive/MyDrive"
      ]
    },
    {
      "cell_type": "markdown",
      "metadata": {
        "id": "fieAI20cUY3e"
      },
      "source": [
        "# 📘 Description pédagogique (non technique)\n",
        "Cette cellule permet de copier un dossier contenant des fichiers depuis GitHub vers l’environnement de travail du notebook.\n",
        "\n",
        "# 💡 Pourquoi on fait ça ?\n",
        "GitHub est une plateforme utilisée pour stocker, partager du code ou des fichiers de projet. Ici, on télécharge les ressources nécessaires à la formation pour pouvoir les utiliser facilement dans les cellules suivantes.\n",
        "\n"
      ]
    },
    {
      "cell_type": "code",
      "execution_count": null,
      "metadata": {
        "colab": {
          "base_uri": "https://localhost:8080/"
        },
        "id": "zaxikizoQODh",
        "outputId": "f2648b55-9866-45a6-e4fd-6e2a7f1527ab"
      },
      "outputs": [
        {
          "name": "stdout",
          "output_type": "stream",
          "text": [
            "Cloning into 'FormationEYAI'...\n",
            "remote: Enumerating objects: 39, done.\u001b[K\n",
            "remote: Counting objects: 100% (39/39), done.\u001b[K\n",
            "remote: Compressing objects: 100% (31/31), done.\u001b[K\n",
            "remote: Total 39 (delta 10), reused 36 (delta 7), pack-reused 0 (from 0)\u001b[K\n",
            "Receiving objects: 100% (39/39), 109.35 KiB | 1.07 MiB/s, done.\n",
            "Resolving deltas: 100% (10/10), done.\n"
          ]
        }
      ],
      "source": [
        "!git clone https://github.com/antoinecstl/FormationEYAI.git"
      ]
    },
    {
      "cell_type": "markdown",
      "metadata": {
        "id": "Vu8eqOfLU_Fq"
      },
      "source": [
        "# 📘 Description pédagogique (non technique)\n",
        "Cette cellule permet de se déplacer dans le dossier FormationEYAI que vous venez de télécharger depuis GitHub.\n",
        "\n",
        "# 💡 Pourquoi on fait ça ?\n",
        "En se plaçant dans ce dossier, on pourra accéder plus facilement aux fichiers utiles pour la suite de la formation."
      ]
    },
    {
      "cell_type": "code",
      "execution_count": null,
      "metadata": {
        "colab": {
          "base_uri": "https://localhost:8080/"
        },
        "id": "-tmBw54vQtZV",
        "outputId": "a417f0b1-371e-426a-d57e-5d5d3e5b87b6"
      },
      "outputs": [
        {
          "name": "stdout",
          "output_type": "stream",
          "text": [
            "/content/gdrive/MyDrive/FormationEYAI\n"
          ]
        }
      ],
      "source": [
        "%cd FormationEYAI"
      ]
    },
    {
      "cell_type": "markdown",
      "metadata": {
        "id": "XzyDRQQYVPsd"
      },
      "source": [
        "# 📘 Description pédagogique (non technique)\n",
        "**Cette cellule permet d’installer automatiquement tous les outils nécessaires à la formation à partir d’un fichier spécial appelé requirements.txt.**\n",
        "Ce fichier contient la liste des modules Python dont on aura besoin pour que le code fonctionne.\n",
        "\n",
        "# 💡 Pourquoi on fait ça ?\n",
        "Plutôt que d’installer chaque outil un par un, ce fichier centralise tout, ce qui fait gagner du temps et évite les erreurs d’oubli ou d’incompatibilité."
      ]
    },
    {
      "cell_type": "code",
      "execution_count": null,
      "metadata": {
        "id": "GTwv_1H2RGRw"
      },
      "outputs": [],
      "source": [
        "%pip install -r requirements.txt"
      ]
    },
    {
      "cell_type": "markdown",
      "metadata": {
        "id": "u7a94dFHVtut"
      },
      "source": [
        "# 📘 Description pédagogique (non technique)\n",
        "Cette cellule télécharge et installe Ollama, un outil qui permet de faire tourner des modèles d’intelligence artificielle (comme des LLMs) localement sur la machine, sans avoir besoin d’une connexion à un service cloud.\n",
        "\n",
        "# 💡 Pourquoi on fait ça ?\n",
        "Cela permet de tester des modèles d’IA de manière autonome, sans dépendre de services externes. C’est particulièrement utile pour des raisons de confidentialité, de coût ou de performance locale."
      ]
    },
    {
      "cell_type": "code",
      "execution_count": null,
      "metadata": {
        "id": "KyeSnz3wR3qP"
      },
      "outputs": [],
      "source": [
        "!curl -fsSL https://ollama.com/install.sh | sh"
      ]
    },
    {
      "cell_type": "markdown",
      "metadata": {
        "id": "nF7e5ksNVvhM"
      },
      "source": [
        "# 📘 Description pédagogique (non technique)\n",
        "Cette cellule sert à lancer le serveur Ollama, c’est-à-dire à démarrer l’outil qui fera fonctionner un modèle d’IA localement.\n",
        "\n",
        "# 💡 Pourquoi on fait ça ?\n",
        "Pour interagir avec un modèle d’intelligence artificielle installé localement, il faut d’abord démarrer un service qui « écoute » et attend nos demandes.\n"
      ]
    },
    {
      "cell_type": "code",
      "execution_count": null,
      "metadata": {
        "id": "q_nUDGlJSCDp"
      },
      "outputs": [],
      "source": [
        "import subprocess\n",
        "sub = subprocess.Popen(\"ollama serve\", shell=True, stdout=subprocess.PIPE)"
      ]
    },
    {
      "cell_type": "markdown",
      "metadata": {
        "id": "Ns--aRdLVwbF"
      },
      "source": [
        "# 📘 Description pédagogique (non technique)\n",
        "Ces deux commandes permettent de télécharger des modèles d’intelligence artificielle (IA) que l’on utilisera ensuite dans le projet.\n",
        "\n",
        "1.   **llama3.2 :** un modèle de langage (LLM), capable de répondre à des questions, générer du texte, résumer, etc.\n",
        "\n",
        "2.   **nomic-embed-text :** un modèle qui transforme des textes en « vecteurs », une forme que les machines peuvent comprendre pour faire des recherches sémantiques ou des comparaisons de sens.\n",
        "\n",
        "\n",
        "\n",
        "# 💡 Pourquoi on fait ça ?\n",
        "Les LLM sont pré-entraînés. Pour pouvoir les utiliser, il faut d’abord les télécharger sur votre machine, un peu comme si vous installiez une application.\n",
        "\n",
        "Sans cela, le système ne saura pas quel modèle utiliser, ni comment répondre aux questions ou traiter les textes."
      ]
    },
    {
      "cell_type": "code",
      "execution_count": null,
      "metadata": {
        "id": "iBmmJZf-SGO5"
      },
      "outputs": [],
      "source": [
        "!ollama pull llama3.2\n",
        "!ollama pull nomic-embed-text"
      ]
    },
    {
      "cell_type": "markdown",
      "metadata": {
        "id": "wUouUZJ1VxJ1"
      },
      "source": [
        "# 📘 Description pédagogique (non technique)\n",
        "Cette section permet de lancer une interface web (une mini-application) et de la rendre accessible depuis Internet grâce à un outil appelé LocalTunnel.\n",
        "\n",
        "Voici ce que chaque ligne fait :\n",
        "\n",
        "`!npm install localtunnel`\n",
        "\n",
        "*   Installe l’outil LocalTunnel, qui va permettre de partager l’application Streamlit via un lien web.\n",
        "\n",
        "`import urllib + print(...)`\n",
        "*   Affiche l’adresse IP publique de votre environnement pour référence (souvent inutile côté utilisateur, mais utile pour des logs ou du debug).\n",
        "\n",
        "`!streamlit run app.py &>/content/logs.txt &`\n",
        "*   Lance l’application Streamlit (app.py) en arrière-plan. C’est cette application qui permet d'interagir avec le modèle IA via une interface utilisateur.\n",
        "\n",
        "`npx localtunnel --port 8501`\n",
        "*   Crée un lien temporaire et public vers l'application, utilisable depuis n’importe quel navigateur.\n",
        "\n",
        "# 💡 Pourquoi on fait ça ?\n",
        "On crée ici une interface simple et accessible (dans un navigateur) pour interagir avec le modèle IA, sans écrire de code.\n",
        "Et comme Colab ou certains environnements locaux n’ont pas d’adresse web fixe, LocalTunnel sert de pont entre votre application et le reste du monde."
      ]
    },
    {
      "cell_type": "code",
      "execution_count": null,
      "metadata": {
        "id": "B-0NSfDrSOEY"
      },
      "outputs": [],
      "source": [
        "!npm install localtunnel\n",
        "import urllib\n",
        "print(\"Password/Enpoint IP for localtunnel is:\",urllib.request.urlopen('https://ipv4.icanhazip.com').read().decode('utf8').strip(\"\\n\"))\n",
        "!streamlit run app.py &>/content/logs.txt & npx localtunnel --port 8501"
      ]
    }
  ],
  "metadata": {
    "colab": {
      "provenance": []
    },
    "kernelspec": {
      "display_name": "Python 3",
      "name": "python3"
    },
    "language_info": {
      "name": "python"
    }
  },
  "nbformat": 4,
  "nbformat_minor": 0
}
