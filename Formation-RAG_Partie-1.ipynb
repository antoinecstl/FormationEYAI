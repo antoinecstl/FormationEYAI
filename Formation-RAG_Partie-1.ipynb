{
  "cells": [
    {
      "cell_type": "markdown",
      "id": "00b11ac5",
      "metadata": {
        "id": "00b11ac5"
      },
      "source": [
        "# 🤖 Formation RAG – Partie 1"
      ]
    },
    {
      "cell_type": "markdown",
      "id": "e049e283",
      "metadata": {
        "id": "e049e283"
      },
      "source": [
        "---\n",
        "## 🎯 Objectifs pédagogiques\n",
        "\n",
        "Cette formation a pour but de vous initier au concept de **RAG (Retrieval-Augmented Generation)**. À la fin de cette formation, vous serez capable de :\n",
        "\n",
        "- Comprendre les composants essentiels d’un système RAG\n",
        "- Manipuler du code Python sur Colab\n",
        "- Installer et utiliser **Ollama** pour faire tourner un modèle LLM localement\n",
        "- Tester un prototype sur un document PDF\n",
        "- Explorer les étapes vers une mise en production (abordées en deuxième partie)\n"
      ]
    },
    {
      "cell_type": "markdown",
      "id": "928f3a19",
      "metadata": {
        "id": "928f3a19"
      },
      "source": [
        "# 🚧 Séquence 1.0 – Setup du Projet (Expliqué en partie 2)"
      ]
    },
    {
      "cell_type": "code",
      "execution_count": null,
      "id": "02783f32",
      "metadata": {
        "colab": {
          "base_uri": "https://localhost:8080/"
        },
        "id": "02783f32",
        "outputId": "574e7812-87c2-4d1d-9940-51941cb14f3b"
      },
      "outputs": [],
      "source": [
        "!curl -fsSL https://ollama.com/install.sh | sh"
      ]
    },
    {
      "cell_type": "code",
      "execution_count": null,
      "id": "30d2d146",
      "metadata": {
        "colab": {
          "base_uri": "https://localhost:8080/"
        },
        "id": "30d2d146",
        "outputId": "a2160331-8895-4fe0-aa39-6ad18b0102b5"
      },
      "outputs": [],
      "source": [
        "import subprocess, time\n",
        "ollama_proc = subprocess.Popen(\"ollama serve\", shell=True)\n",
        "time.sleep(2)\n",
        "print('✅ Ollama est prêt')"
      ]
    },
    {
      "cell_type": "code",
      "execution_count": null,
      "id": "aef6ba77",
      "metadata": {
        "colab": {
          "base_uri": "https://localhost:8080/"
        },
        "id": "aef6ba77",
        "outputId": "a7c74c16-3bbb-4201-9d09-6bc200bafc19"
      },
      "outputs": [],
      "source": [
        "!ollama pull llama3.2:latest\n",
        "!ollama pull nomic-embed-text:latest\n",
        "!ollama pull bge-m3"
      ]
    },
    {
      "cell_type": "code",
      "execution_count": null,
      "id": "fac33f5e",
      "metadata": {
        "colab": {
          "base_uri": "https://localhost:8080/"
        },
        "id": "fac33f5e",
        "outputId": "84ae48ae-3954-479e-afbb-f49416bbac67"
      },
      "outputs": [],
      "source": [
        "from google.colab import drive\n",
        "drive.mount('/content/gdrive')"
      ]
    },
    {
      "cell_type": "code",
      "execution_count": null,
      "id": "e2bb2a33",
      "metadata": {
        "colab": {
          "base_uri": "https://localhost:8080/"
        },
        "id": "e2bb2a33",
        "outputId": "62d932a5-503f-4510-89c7-a2688ba82f2e"
      },
      "outputs": [],
      "source": [
        "%cd /content/gdrive/MyDrive\n",
        "!git clone https://github.com/antoinecstl/FormationEYAI.git\n",
        "%cd FormationEYAI"
      ]
    },
    {
      "cell_type": "code",
      "execution_count": null,
      "id": "ec7a32c4",
      "metadata": {
        "colab": {
          "base_uri": "https://localhost:8080/"
        },
        "id": "ec7a32c4",
        "outputId": "7914ed86-4fc3-4bfe-9489-fef11d9b135c"
      },
      "outputs": [],
      "source": [
        "!pip install -r requirements.txt"
      ]
    },
    {
      "cell_type": "markdown",
      "id": "64d5143d",
      "metadata": {
        "id": "64d5143d"
      },
      "source": [
        "# 🔍 Séquence 1.1 – Bases du RAG : embeddings & similarité (SLIDE)\n",
        "\n",
        "## 🧠 Création d'embeddings avec un modèle local\n",
        "\n",
        "Pour pouvoir comparer des phrases ou retrouver des documents pertinents, on doit **transformer du texte en vecteurs numériques** (embeddings). Ces vecteurs capturent le sens des mots ou des phrases dans un espace mathématique.\n",
        "\n",
        "### 🔧 Que fait cette cellule ?\n",
        "- Elle définit une fonction `embed_texts` qui prend une **liste de phrases** en entrée.\n",
        "- Chaque phrase est transformée en vecteur via le modèle `nomic-embed-text` installé localement avec Ollama. (Nous préparons ici deux modèles d'embeeding `nomic-embed-text` et `bge-m3`que nous utiliserons par la suite)\n",
        "- Elle retourne un tableau `numpy` contenant les vecteurs (`shape = (n, d)`), où :\n",
        "  - `n` est le nombre de phrases\n",
        "  - `d` est la dimension de l’espace d’embedding\n",
        "\n",
        "Ces vecteurs seront utiles pour calculer des similarités ou faire de la recherche sémantique.\n"
      ]
    },
    {
      "cell_type": "code",
      "execution_count": null,
      "id": "360710df",
      "metadata": {
        "id": "360710df"
      },
      "outputs": [],
      "source": [
        "import numpy as np, ollama\n",
        "\n",
        "EMBED_MODEL1 = \"nomic-embed-text:latest\"\n",
        "EMBED_MODEL2 = \"bge-m3\"\n",
        "\n",
        "def embed_texts(texts, embed_model):\n",
        "    \"\"\"Retourne un np.ndarray shape (n, d)\"\"\"\n",
        "    return np.array([ollama.embeddings(model=embed_model, prompt=t)['embedding'] for t in texts], dtype='float32')"
      ]
    },
    {
      "cell_type": "markdown",
      "id": "5Zl1kvvpNgYT",
      "metadata": {
        "id": "5Zl1kvvpNgYT"
      },
      "source": [
        "## 🔬 Test d'embedding : comparaison de phrases\n",
        "\n",
        "Ici, on mesure la **similarité** entre deux phrases à l’aide de leurs embeddings.\n",
        "\n",
        "#### 🔍 Que fait cette cellule ?\n",
        "- Elle convertit chaque phrase en vecteur (embedding)\n",
        "- Elle mesure leur proximité à l’aide d’un **produit scalaire**\n",
        "- Le score obtenu indique le **niveau de similarité sémantique**\n",
        "\n",
        "#### 📊 Comment lire le score ?\n",
        "- `1` : phrases très proches (sens similaire)\n",
        "- `0` : phrases sans lien\n",
        "- `-1` : phrases opposées (Les modèles que nous utilisons sont très générique et n'arrivent que très rarement à aller en dessous de 0. En effet, les embeddings de modèles récents sont faits pour maximiser la similarité entre phrases proches, pas pour maximiser la dissimilarité.)\n",
        "\n",
        "✏️ Vous pouvez modifier les phrases pour tester différents cas."
      ]
    },
    {
      "cell_type": "code",
      "execution_count": null,
      "id": "15f380f8",
      "metadata": {
        "colab": {
          "base_uri": "https://localhost:8080/"
        },
        "id": "15f380f8",
        "outputId": "e2bb8c32-6617-444b-d9a1-fa587a06bd08"
      },
      "outputs": [],
      "source": [
        "phrase1 = \"Cite moi les meilleures écurie de Formule 1\"\n",
        "phrase2 = \"Pourquoi le ciel est bleu ?\"\n",
        "\n",
        "vecs = embed_texts([phrase1, phrase2], EMBED_MODEL1)\n",
        "sim = float(vecs[0] @ vecs[1] / (np.linalg.norm(vecs[0])*np.linalg.norm(vecs[1])))\n",
        "print(f\"Similarité : {sim:.3f}\")"
      ]
    },
    {
      "cell_type": "markdown",
      "id": "cad5dfe6",
      "metadata": {
        "id": "cad5dfe6"
      },
      "source": [
        "# 📐 Séquence 1.2 – Chunking & nettoyage d’un PDF d’exemple (SLIDE)"
      ]
    },
    {
      "cell_type": "markdown",
      "id": "2xvCloYbN6BK",
      "metadata": {
        "id": "2xvCloYbN6BK"
      },
      "source": [
        "#### 🔍 Que fait cette cellule ?\n",
        "\n",
        "Ici, ce bloc de code sert à découper un texte en morceaux adaptés au LLM. \n",
        "\n",
        "La fonction `auto_chunk_size` détermine la taille des morceaux (chunks) en fonction de la longueur du texte, afin de rester efficace. Plus le texte est long et plus les chunks sont petit.\n",
        "\n",
        "La fonction `chunk_document` découpe un texte en morceaux exploitables par un LLM.\n",
        "    1. Calcule la taille des chunks avec `auto_chunk_size`.\n",
        "    2. Créer un découpeur intelligent `splitter` qui coupe aux paragraphes, puis lignes, puis phrases.\n",
        "    3. Filtre les morceaux trop courts (< 100 caractères>)\n",
        "\n",
        "Cela permet de faciliter l'analyse de texte long par le LLM en préservant le sens."
      ]
    },
    {
      "cell_type": "code",
      "execution_count": null,
      "id": "bdede86d",
      "metadata": {
        "id": "bdede86d"
      },
      "outputs": [],
      "source": [
        "from langchain.text_splitter import RecursiveCharacterTextSplitter\n",
        "\n",
        "def auto_chunk_size(tok:int)->int:\n",
        "    return 1024 if tok<8000 else 768 if tok<20000 else 512\n",
        "\n",
        "def chunk_document(text:str):\n",
        "    size=auto_chunk_size(len(text.split()))\n",
        "    splitter=RecursiveCharacterTextSplitter(\n",
        "        separators=[\"\\n\\n\",\"\\n\",\". \"],\n",
        "        chunk_size=size,\n",
        "        chunk_overlap=size//4,\n",
        "        length_function=len,\n",
        "        )\n",
        "    return [c for c in splitter.split_text(text) if len(c)>100]"
      ]
    },
    {
      "cell_type": "markdown",
      "id": "Q-9o6RJFOKwf",
      "metadata": {
        "id": "Q-9o6RJFOKwf"
      },
      "source": [
        "## 📖 Chargement du PDF d'exemple\n",
        "\n",
        "On commence par **extraire le texte brut du PDF** page par page grâce à la librairie PyPDF2.\n",
        "\n",
        "### 💡 Pourquoi faire ça ?  \n",
        "- Cela permet de récupérer tout le contenu textuel du document.  \n",
        "- On peut ensuite estimer sa taille en nombre de mots (tokens), ce qui aide à adapter les traitements (chunking, embeddings, etc.)."
      ]
    },
    {
      "cell_type": "code",
      "execution_count": null,
      "id": "a544cc02",
      "metadata": {
        "colab": {
          "base_uri": "https://localhost:8080/"
        },
        "id": "a544cc02",
        "outputId": "8b2eaf2a-6dec-45d1-c999-4eb8522ff8d0"
      },
      "outputs": [],
      "source": [
        "from PyPDF2 import PdfReader\n",
        "\n",
        "sample_path = \"/content/gdrive/MyDrive/FormationEYAI/Anonymized_Rapport.pdf\"\n",
        "pages = PdfReader(sample_path).pages\n",
        "full_text = \"\\n\".join(p.extract_text() or \"\" for p in pages)\n",
        "\n",
        "print(f\"📄 Le document contient {len(full_text.split())} tokens environ.\")"
      ]
    },
    {
      "cell_type": "markdown",
      "id": "V2h-KwA6wfXL",
      "metadata": {
        "id": "V2h-KwA6wfXL"
      },
      "source": [
        "### 🌳 Chunking du PDF\n",
        "Ici, le text extrait du pdf est découpé en plus petit segments (chunks), afin de préparer le texte pour de l'indexation.\n",
        "\n",
        "\n",
        "### Pourquoi créer des chunks ?  \n",
        "- Les modèles ne peuvent pas traiter de très longs textes d’un coup.  \n",
        "- Le chunking permet de diviser le contenu en morceaux cohérents et exploitables.  \n",
        "- On peut ensuite traiter chaque chunk indépendamment (calcul d’embeddings, recherche, etc.).\n",
        "\n",
        "\n",
        "✏️ Parcourer la lise de chunks générés afin de valider le bon découpage du contenu."
      ]
    },
    {
      "cell_type": "code",
      "execution_count": null,
      "id": "62d93bc0",
      "metadata": {
        "colab": {
          "base_uri": "https://localhost:8080/"
        },
        "id": "62d93bc0",
        "outputId": "552672ad-1ee7-4ceb-9e58-77799dd6b423"
      },
      "outputs": [],
      "source": [
        "chunks = chunk_document(full_text)\n",
        "print(f\"{len(chunks)} chunks créés.\\nAperçu :\\n{chunks[0][:300]}…\")"
      ]
    },
    {
      "cell_type": "markdown",
      "id": "bd5e0cab",
      "metadata": {
        "id": "bd5e0cab"
      },
      "source": [
        "# 📊 Séquence 1.3 – Index vectoriel FAISS (SLIDE)\n",
        "\n",
        "\n",
        "Les vecteurs obtenus à partir des chunks sont rangés dans une structure appelée **index FAISS**.\n",
        "\n",
        "### Qu’est-ce que FAISS ?  \n",
        "- Un outil très rapide pour rechercher les vecteurs proches dans un grand ensemble.  \n",
        "- Permet de retrouver rapidement les documents les plus similaires à une requête.\n",
        "\n",
        "### 💡 Pourquoi créer cet index ?  \n",
        "- Pour accélérer les recherches dans la base de documents vectorisés.  \n",
        "- C’est indispensable dès qu’on a beaucoup de données à parcourir."
      ]
    },
    {
      "cell_type": "code",
      "execution_count": null,
      "id": "ce563806",
      "metadata": {
        "id": "ce563806"
      },
      "outputs": [],
      "source": [
        "import faiss, numpy as np\n",
        "\n",
        "def build_faiss_index(vectors:np.ndarray)->faiss.IndexFlatIP:\n",
        "    d=vectors.shape[1]\n",
        "    idx=faiss.IndexFlatIP(d)\n",
        "    idx.add(vectors.astype('float32'))\n",
        "    return idx"
      ]
    },
    {
      "cell_type": "markdown",
      "id": "CoOUtCzD2l8m",
      "metadata": {
        "id": "CoOUtCzD2l8m"
      },
      "source": [
        "## 🧪 Construction index chunks\n",
        "\n",
        "\n",
        "Chaque chunk est transformé en vecteur numérique (embedding), puis ajouté à l’index FAISS.\n",
        "\n",
        "### Ce que ça signifie :  \n",
        "- On passe de textes à vecteurs.  \n",
        "- On construit une base efficace pour retrouver les chunks les plus pertinents rapidement."
      ]
    },
    {
      "cell_type": "code",
      "execution_count": null,
      "id": "202c0cbf",
      "metadata": {
        "colab": {
          "base_uri": "https://localhost:8080/"
        },
        "id": "202c0cbf",
        "outputId": "18f6fae4-78f0-46b5-b089-8cb399a33ad8"
      },
      "outputs": [],
      "source": [
        "import numpy as np\n",
        "\n",
        "chunk_vecs = embed_texts(chunks, EMBED_MODEL2)\n",
        "index = build_faiss_index(chunk_vecs)\n",
        "\n",
        "print(index.ntotal, \"Nombre de vecteurs total dans l'index\")"
      ]
    },
    {
      "cell_type": "markdown",
      "id": "2ea4bdc9",
      "metadata": {
        "id": "2ea4bdc9"
      },
      "source": [
        "# 🧮 Séquence 1.4 – Algorithme MMR\n",
        "\n",
        "MMR permet de sélectionner des passages à la fois **pertinents** et **diversifiés** pour une requête donnée.\n",
        "\n",
        "### Pourquoi c’est important ?  \n",
        "- Sélectionner uniquement les passages les plus similaires peut donner des résultats redondants.  \n",
        "- MMR équilibre la similarité à la question et la diversité entre passages sélectionnés.\n",
        "\n",
        "Cet algorithme améliore la qualité des résultats en évitant les répétitions."
      ]
    },
    {
      "cell_type": "code",
      "execution_count": null,
      "id": "ed16fd2f",
      "metadata": {
        "id": "ed16fd2f"
      },
      "outputs": [],
      "source": [
        "from sklearn.metrics.pairwise import cosine_similarity\n",
        "\n",
        "def mmr(query_vec:np.ndarray, cand:np.ndarray, k:int=5, λ:float=0.3):\n",
        "    selected, rest = [], list(range(len(cand)))\n",
        "    while len(selected)<min(k,len(rest)):\n",
        "        best, best_score = None, -1e9\n",
        "        for idx in rest:\n",
        "            sim_q = float(query_vec @ cand[idx]/(np.linalg.norm(query_vec)*np.linalg.norm(cand[idx])+1e-6))\n",
        "            sim_s = max(cosine_similarity(cand[idx][None,:], cand[selected])[0]) if selected else 0.\n",
        "            score = λ*sim_q - (1-λ)*sim_s\n",
        "            if score>best_score:\n",
        "                best, best_score = idx, score\n",
        "        selected.append(best); rest.remove(best)\n",
        "    return selected"
      ]
    },
    {
      "cell_type": "markdown",
      "id": "q20EfzKw3rPL",
      "metadata": {
        "id": "q20EfzKw3rPL"
      },
      "source": [
        "## 🔬 Test MMR\n",
        "Ici, l'algorithme MMR est appelé pour trouver les 3 passages les plus pertinents et variés en réponse à la question.\n",
        "\n",
        "✏️Modifier la question pour s'assurer que MMR sélectionne bien des passages différents mais liés à la question."
      ]
    },
    {
      "cell_type": "code",
      "execution_count": null,
      "id": "ad559f5c",
      "metadata": {
        "colab": {
          "base_uri": "https://localhost:8080/"
        },
        "id": "ad559f5c",
        "outputId": "091658c1-50c3-4b35-b98b-cefaf38869de"
      },
      "outputs": [],
      "source": [
        "import numpy as np\n",
        "\n",
        "q_vec = embed_texts([\"Sujet principal du rapport ?\"], EMBED_MODEL2)[0]\n",
        "sel = mmr(q_vec, chunk_vecs, 3)\n",
        "print(sel)"
      ]
    },
    {
      "cell_type": "markdown",
      "id": "0e41f64f",
      "metadata": {
        "id": "0e41f64f"
      },
      "source": [
        "# 🧑‍🎤 Séquence 1.5 – Prompt engineering (SLIDE)\n",
        "\n",
        "## 🧠 Construction du prompt\n",
        "\n",
        "Après avoir sélectionné les passages du document les plus pertinents et variés par rapport à la question,  \n",
        "on construit un prompt clair et structuré avec `build_prompt`.\n",
        "\n",
        "`ctxs` représente les informations du document jugées pertinentes à la `question` posée.\n",
        "\n",
        "### 💡 Pourquoi on fait ça ?  \n",
        "Cette étape est essentielle pour que le modèle fournisse une réponse ciblée et fiable,  \n",
        "en s’appuyant uniquement sur les données extraites du document."
      ]
    },
    {
      "cell_type": "code",
      "execution_count": null,
      "id": "d7085934",
      "metadata": {
        "id": "d7085934"
      },
      "outputs": [],
      "source": [
        "def build_prompt(question:str, ctxs:list[str]):\n",
        "    ctx_block=\"\\n\\n\".join(f\"[{i+1}] {c}\" for i,c in enumerate(ctxs))\n",
        "    system=\"Vous êtes un assistant expert. Utilisez uniquement les informations suivantes pour répondre en français. Citez les sources [n].\"\n",
        "    return [\n",
        "        {\"role\":\"system\",\"content\":system},\n",
        "        {\"role\":\"user\",\"content\":f\"CONTEXTE(S):\\n{ctx_block}\\n\\nQUESTION: {question}\\n\\nRéponse:\"}\n",
        "    ]\n"
      ]
    },
    {
      "cell_type": "code",
      "execution_count": null,
      "id": "f84c1dd9",
      "metadata": {
        "colab": {
          "base_uri": "https://localhost:8080/"
        },
        "id": "f84c1dd9",
        "outputId": "2d93ca96-7e1b-4b51-877e-54635e8745d8"
      },
      "outputs": [],
      "source": [
        "print(build_prompt(\"Pourquoi le ciel est bleu ?\", [\"La diffusion Rayleigh explique la couleur du ciel.\"]))"
      ]
    },
    {
      "cell_type": "markdown",
      "id": "fda2bf49",
      "metadata": {
        "id": "fda2bf49"
      },
      "source": [
        "## 🤖 Séquence 1.6 Premier Appel au LLM (SLIDE)\n",
        "\n",
        "Ce code envoie une liste de messages au modèle `llama3.2:3B` via la fonction `_call_llm`.\n",
        "\n",
        "- Le premier message définit le rôle ou le comportement attendu du modèle.  \n",
        "- Le second contient la question posée.\n",
        "\n",
        "On peut ajuster la créativité (`temperature`) et la longueur de la réponse (`max_tokens`).\n",
        "\n",
        "✏️ Modifie ces paramètres et la question pour tester et comprendre l’impact sur les réponses.\n"
      ]
    },
    {
      "cell_type": "code",
      "execution_count": null,
      "id": "d9d80ac7",
      "metadata": {
        "colab": {
          "base_uri": "https://localhost:8080/"
        },
        "id": "d9d80ac7",
        "outputId": "bfcba364-d53a-41ba-b2f4-d4197a8b3c89"
      },
      "outputs": [],
      "source": [
        "from typing import List, Dict\n",
        "\n",
        "MODEL_NAME = \"llama3.2:3B\"\n",
        "\n",
        "def _call_llm(messages: List[Dict[str, str]], *, temperature: float = 0.1, max_tokens: int = 2048, stream: bool = False):\n",
        "    \"\"\"Enveloppe simple autour de ollama.chat pour usage direct.\"\"\"\n",
        "    return ollama.chat(\n",
        "        model=MODEL_NAME,\n",
        "        messages=messages,\n",
        "        stream=stream,\n",
        "        options={\"temperature\": temperature, \"num_predict\": max_tokens},\n",
        "    )\n",
        "\n",
        "# 🧪 Exemple d'appel\n",
        "messages = [\n",
        "    {\"role\": \"system\", \"content\": \"Tu es un assistant concis\"},\n",
        "    {\"role\": \"user\", \"content\": \"Donne-moi la capitale de l’Italie\"}\n",
        "]\n",
        "print(_call_llm(messages)[\"message\"][\"content\"].strip())"
      ]
    },
    {
      "cell_type": "markdown",
      "id": "4ec4b714",
      "metadata": {
        "id": "4ec4b714"
      },
      "source": [
        "# 🏗️ Séquence 1.7 – Assemblage mini‑RAG (prototype)\n",
        "\n",
        "Ici, on combine toutes les étapes vues précédemment pour créer un système simple de RAG qui répond à une question à partir d’un document.\n",
        "\n",
        "1. Transformer la question en vecteur (embedding) avec `embed_texts`.  \n",
        "2. Chercher les passages les plus proches dans l’index FAISS (`index.search`).  \n",
        "3. Récupérer les textes correspondants à ces passages.  \n",
        "4. Construire un prompt structuré avec `build_prompt`.  \n",
        "5. Appeler le modèle de langage avec `_call_llm` pour générer la réponse.  \n",
        "6. Retourner la réponse et les passages utilisés.\n",
        "\n",
        "Cete fonction montre comment utiliser les embeddings et l’indexation pour alimenter un LLM en contexte précis."
      ]
    },
    {
      "cell_type": "code",
      "execution_count": null,
      "id": "e7f90fe1",
      "metadata": {
        "id": "e7f90fe1"
      },
      "outputs": [],
      "source": [
        "def ask(question: str, chunks: List[str], vecs: np.ndarray, top_k: int = 3):\n",
        "    # Recherche des chunks pertinents\n",
        "    q_vec = embed_texts([question], EMBED_MODEL2)[0]\n",
        "    _, I = index.search(q_vec[None, :], top_k)\n",
        "    ctx = [chunks[i] for i in I[0]]\n",
        "    # Préparation du prompt\n",
        "    prompt = build_prompt(question, ctx)\n",
        "    # Appel LLM et retour de la réponse\n",
        "    answer = _call_llm(prompt)[\"message\"][\"content\"].strip()\n",
        "    return answer, I[0]"
      ]
    },
    {
      "cell_type": "markdown",
      "id": "ntxeby3U7VQq",
      "metadata": {
        "id": "ntxeby3U7VQq"
      },
      "source": [
        "## 🧪 Prototype RAG sur le PDF\n",
        "\n",
        "\n",
        "Maintenant, on peut poser une question sur le PDF `rapport.pdf` et obtenir une réponse sourcée basée sur le contenu réel du document.\n",
        "\n",
        "✏️ Change la question pour explorer différentes réponses !\n",
        "\n"
      ]
    },
    {
      "cell_type": "code",
      "execution_count": null,
      "id": "2c72002e",
      "metadata": {
        "colab": {
          "base_uri": "https://localhost:8080/"
        },
        "id": "2c72002e",
        "outputId": "bcb9413e-2c6f-4513-c5e8-7dedaacdca9d"
      },
      "outputs": [],
      "source": [
        "question = \"Qui est le prestataire de la mission ?\"\n",
        "print(ask(question, chunks, chunk_vecs))"
      ]
    }
  ],
  "metadata": {
    "accelerator": "GPU",
    "colab": {
      "gpuType": "T4",
      "provenance": []
    },
    "kernelspec": {
      "display_name": "Python 3",
      "name": "python3"
    },
    "language_info": {
      "codemirror_mode": {
        "name": "ipython",
        "version": 3
      },
      "file_extension": ".py",
      "mimetype": "text/x-python",
      "name": "python",
      "nbconvert_exporter": "python",
      "pygments_lexer": "ipython3",
      "version": "3.12.7"
    }
  },
  "nbformat": 4,
  "nbformat_minor": 5
}
